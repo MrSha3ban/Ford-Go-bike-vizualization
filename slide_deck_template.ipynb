{
 "cells": [
  {
   "cell_type": "markdown",
   "metadata": {
    "slideshow": {
     "slide_type": "slide"
    }
   },
   "source": [
    "<img src=\"https://allvectorlogo.com/img/2017/07/ford-gobike-logo.png\" alt=\"Wrangling\" width=\"500px\" >\n",
    "<h1>Ford gobike Data set Analysis  </h1>\n",
    " <a href=\"http://www.linkedin.com/in/mr-sha3ban \"> <h6>By: Mohammad Shaaban</h6>  \n",
    "\n"
   ]
  },
  {
   "cell_type": "markdown",
   "metadata": {
    "slideshow": {
     "slide_type": "slide"
    }
   },
   "source": [
    "## Investigation Overview\n",
    "\n",
    "# 🙞 🗦  Main goal is to find a way to supply  the Ford gobike marketing department with important insights to help them increase their subscribers. 🗧!\n",
    "\n",
    "## I will answer the following questions to help them: \n",
    "\n",
    "- Find out What is most users ages which using these bikes?\n",
    "- What is most users gender which using these bikes?\n",
    "- What is the most popular station ?\n",
    "- What is the gender of the members spend more time (duration) using our bikes?\n",
    "- Which gender of members subscribe more than the others ?\n",
    "- Does the long trip durations depending on the age of member?\n",
    "- which costumers gender that mostly prefer spending more time using Ford bikes \"spend more than 2 hours\"?\n",
    "\n",
    "\n",
    "\n"
   ]
  },
  {
   "cell_type": "markdown",
   "metadata": {
    "slideshow": {
     "slide_type": "subslide"
    }
   },
   "source": [
    "## Dataset Overview\n",
    "### This data set includes information about individual rides made in a bike-sharing system covering the greater San Francisco Bay area.\n",
    "### this data set before doing any cleaning is (16 coluns x 183412 rows)\n",
    "\n",
    "<a href=\"https://video.udacity-data.com/topher/2020/October/5f91cf38_201902-fordgobike-tripdata/201902-fordgobike-tripdata.csv \"> <h6>Download the data from here</h6> "
   ]
  },
  {
   "cell_type": "markdown",
   "metadata": {
    "slideshow": {
     "slide_type": "slide"
    }
   },
   "source": [
    "# 🙞 🗦  Find out  What is most users ages which using Ford Go bikes?\n",
    "\n",
    "<img src=\"Rate of rides & members ages.png\" alt=\"Wrangling\" width=\"500px\"  align=\"center\">\n",
    "\n",
    "## Maximum trips  rate are by users ages between 25 & 35 years old."
   ]
  },
  {
   "cell_type": "markdown",
   "metadata": {
    "slideshow": {
     "slide_type": "subslide"
    }
   },
   "source": [
    "# 🙞 🗦   Find out  What is most users gender which using Ford Go bikes?\n",
    "<img src=\"facet.png\" alt=\"Wrangling\" width=\"600px\"  align=\"center\">\n",
    "\n",
    "## Males in age between 25-35 is the most usage of Ford bikes ."
   ]
  },
  {
   "cell_type": "markdown",
   "metadata": {
    "collapsed": true,
    "slideshow": {
     "slide_type": "slide"
    }
   },
   "source": [
    "# 🙞 🗦  What is the most popular station ?\n",
    "<img src=\"bar.png\" alt=\"Wrangling\" width=\"550px\" align=\"center\" >\n",
    "\n",
    "## Most popular station is (Market St at 10th St) ."
   ]
  },
  {
   "cell_type": "markdown",
   "metadata": {
    "slideshow": {
     "slide_type": "slide"
    }
   },
   "source": [
    "# 🙞 🗦  What is the gender of the members spend more time (duration) using Ford bikes?\n",
    "\n",
    "<img src=\"pie.png\" alt=\"Wrangling\" width=\"300px\" align=\"center\">\n",
    "\n",
    "## Gender(Other) more likely to spend more time using Ford Go bikes."
   ]
  },
  {
   "cell_type": "markdown",
   "metadata": {
    "slideshow": {
     "slide_type": "slide"
    }
   },
   "source": [
    "# 🙞 🗦  Which gender of members subscribes more than the others ?\n",
    "\n",
    "<img src=\"Users types by Gender VS Number of trips.png\" alt=\"Wrangling\" width=\"600px\" align=\"center\">\n",
    "\n",
    "## Males are more subscribing than other genders."
   ]
  },
  {
   "cell_type": "markdown",
   "metadata": {
    "slideshow": {
     "slide_type": "slide"
    }
   },
   "source": [
    "# 🙞 🗦  Does the long trip durations depending on the age of member ?\n",
    "\n",
    "<img src=\"Trip Duration and Age.png\" alt=\"Wrangling\" width=\"600px\" align=\"center\">\n",
    "\n",
    "##  Yes, long trip durations depends on the age of member.\n",
    "\n"
   ]
  },
  {
   "cell_type": "markdown",
   "metadata": {
    "slideshow": {
     "slide_type": "slide"
    }
   },
   "source": [
    "# 🙞 🗦 which costumers gender that mostly prefer spending more time using Ford bikes \"spend more than 2 hours\"  ?\n",
    "\n",
    "\n",
    "\n",
    "<img src=\"User type and duration by geder.png\" alt=\"Wrangling\" width=\"500px\" align=\"center\">\n",
    "\n",
    "## The most gender prefer spending time using For bikes is (Other) in both cases (Subscribers and Customers).\n",
    "\n",
    "\n"
   ]
  },
  {
   "cell_type": "markdown",
   "metadata": {
    "slideshow": {
     "slide_type": "slide"
    }
   },
   "source": [
    "<div class=\"alert alert-danger\">\n",
    "  <strong>Note!</strong>  First we must consider the time we gathered this data on and its representation of the population of data we can collect.\n",
    "</div>\n",
    "\n",
    "# Conclusions >> We can say in some confidence level that :\n",
    "\n",
    "> **1. Maximum trips  rate are by users ages between 25 & 35 years old.**\n",
    "\n",
    "> **2. Males in age between 25-35 is the most usage of Ford bikes .**\n",
    "\n",
    "> **3. Most popular station is (Market St at 10th St) .**\n",
    "\n",
    "> **4. Gender(Other) more likely to spend more time using Ford Go bikes.**\n",
    "\n",
    "> **5. Males are more subscribing than other genders.**\n",
    "\n",
    "> **6. The most gender prefer spending time using For bikes is (Other) in both cases (Subscribers and Customers).**\n",
    "\n",
    "> **7. Long trip durations depends on the age of member.**"
   ]
  },
  {
   "cell_type": "markdown",
   "metadata": {
    "slideshow": {
     "slide_type": "slide"
    }
   },
   "source": [
    "<img src=\"https://th.bing.com/th/id/OIP.nGj6TdFdVpR89OM-fri1lAHaCd?pid=ImgDet&rs=1\" alt=\"Wrangling\" width=\"500px\" align=\"center\">"
   ]
  },
  {
   "cell_type": "markdown",
   "metadata": {
    "slideshow": {
     "slide_type": "notes"
    }
   },
   "source": [
    "> Once you're ready to finish your presentation, check your output by using\n",
    "nbconvert to export the notebook and set up a server for the slides. From the\n",
    "terminal or command line, use the following expression:\n",
    "> > `jupyter nbconvert slide_deck_template.ipynb --to slides --post serve --template output_toggle`\n",
    "\n",
    "> This should open a tab in your web browser where you can scroll through your\n",
    "presentation. Sub-slides can be accessed by pressing 'down' when viewing its parent\n",
    "slide. Make sure you remove all of the quote-formatted guide notes like this one\n",
    "before you finish your presentation!"
   ]
  }
 ],
 "metadata": {
  "celltoolbar": "Slideshow",
  "kernelspec": {
   "display_name": "Python 3 (ipykernel)",
   "language": "python",
   "name": "python3"
  },
  "language_info": {
   "codemirror_mode": {
    "name": "ipython",
    "version": 3
   },
   "file_extension": ".py",
   "mimetype": "text/x-python",
   "name": "python",
   "nbconvert_exporter": "python",
   "pygments_lexer": "ipython3",
   "version": "3.8.12"
  }
 },
 "nbformat": 4,
 "nbformat_minor": 2
}
